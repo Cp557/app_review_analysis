{
  "nbformat": 4,
  "nbformat_minor": 0,
  "metadata": {
    "colab": {
      "provenance": [],
      "authorship_tag": "ABX9TyPM+8CeUoV4xKPGCyAMcv7J",
      "include_colab_link": true
    },
    "kernelspec": {
      "name": "python3",
      "display_name": "Python 3"
    },
    "language_info": {
      "name": "python"
    }
  },
  "cells": [
    {
      "cell_type": "markdown",
      "metadata": {
        "id": "view-in-github",
        "colab_type": "text"
      },
      "source": [
        "<a href=\"https://colab.research.google.com/github/Cp557/app_review_analysis/blob/main/app_review_analysis.ipynb\" target=\"_parent\"><img src=\"https://colab.research.google.com/assets/colab-badge.svg\" alt=\"Open In Colab\"/></a>"
      ]
    },
    {
      "cell_type": "markdown",
      "source": [
        "# 📊 Mobile App Review Analysis with BigQuery & Vertex AI\n",
        "\n",
        "## Introduction\n",
        "Understanding user feedback is critical for improving mobile applications and enhancing customer satisfaction. This project leverages BigQuery, Vertex AI, and data visualization to explore and analyze mobile app reviews.\n",
        "\n",
        "The workflow includes:\n",
        "- **Data Cleaning**: Handling missing values, normalizing app versions, and imputing ratings using AI-generated estimates.  \n",
        "- **Exploratory Data Analysis (EDA)**: Visualizing the most reviewed apps, distribution of ratings, country-wise averages, and identifying top and bottom performers.  \n",
        "- **AI-Powered Insights**: Using Gemini models to summarize user sentiment, extract key themes, and recommend actionable improvements.  \n",
        "- **Embedding & Chatbot**: Creating vector representations of reviews to power semantic search, enabling natural language queries. This allows product managers to ask questions like *“Which apps have too many ads?”* and receive context-driven insights.  \n",
        "\n",
        "By combining traditional analytics with generative AI, this notebook provides a powerful toolkit for product teams, data analysts, and app developers to better understand user sentiment, identify pain points, and drive product enhancements."
      ],
      "metadata": {
        "id": "gX9qkd8xGnRd"
      }
    },
    {
      "cell_type": "code",
      "source": [
        "!pip install -q --upgrade bigframes google-cloud-bigquery gradio"
      ],
      "metadata": {
        "id": "3mpALe5QOZHL"
      },
      "execution_count": null,
      "outputs": []
    },
    {
      "cell_type": "code",
      "source": [
        "from google.colab import auth\n",
        "auth.authenticate_user()"
      ],
      "metadata": {
        "id": "SKn_skF_Jlo8"
      },
      "execution_count": null,
      "outputs": []
    },
    {
      "cell_type": "code",
      "source": [
        "import pandas as pd\n",
        "import numpy as np\n",
        "import matplotlib.pyplot as plt\n",
        "from google.cloud import bigquery\n",
        "import plotly.express as px"
      ],
      "metadata": {
        "id": "coUdkSxiOnAX"
      },
      "execution_count": null,
      "outputs": []
    },
    {
      "cell_type": "code",
      "execution_count": null,
      "metadata": {
        "id": "bRTlcihQ7cx_"
      },
      "outputs": [],
      "source": [
        "PROJECT_ID = \"mobile-app-review-471616\"\n",
        "DATASET = \"reviews\"\n",
        "TABLE   = \"app reviews\"\n",
        "VERTEX_CONNECTION = \"projects/mobile-app-review-471616/locations/us-central1/connections/bigquery_ai\"\n",
        "bq = bigquery.Client(project=PROJECT_ID)"
      ]
    },
    {
      "cell_type": "markdown",
      "source": [
        "# Data Cleaning and EDA"
      ],
      "metadata": {
        "id": "E5XuW9HlMaQr"
      }
    },
    {
      "cell_type": "code",
      "source": [
        "query = f\"\"\"\n",
        "SELECT\n",
        "  COUNTIF(review_id IS NULL) AS missing_review_id,\n",
        "  COUNTIF(user_id IS NULL) AS missing_user_id,\n",
        "  COUNTIF(app_name IS NULL) AS missing_app_name,\n",
        "  COUNTIF(app_category IS NULL) AS missing_app_category,\n",
        "  COUNTIF(review_text IS NULL OR review_text = '') AS missing_review_text,\n",
        "  COUNTIF(review_language IS NULL) AS missing_review_language,\n",
        "  COUNTIF(rating IS NULL) AS missing_rating,\n",
        "  COUNTIF(review_date IS NULL) AS missing_review_date,\n",
        "  COUNTIF(verified_purchase IS NULL) AS missing_verified_purchase,\n",
        "  COUNTIF(device_type IS NULL) AS missing_device_type,\n",
        "  COUNTIF(num_helpful_votes IS NULL) AS missing_num_helpful_votes,\n",
        "  COUNTIF(user_age IS NULL) AS missing_user_age,\n",
        "  COUNTIF(user_country IS NULL OR user_country = '') AS missing_user_country,\n",
        "  COUNTIF(user_gender IS NULL OR user_gender = '') AS missing_user_gender,\n",
        "  COUNTIF(app_version IS NULL OR app_version = '') AS missing_app_version\n",
        "FROM `{PROJECT_ID}.{DATASET}.{TABLE}`;\n",
        "\"\"\"\n",
        "\n",
        "df_missing_counts = bq.query(query).to_dataframe()\n",
        "df_missing_counts"
      ],
      "metadata": {
        "colab": {
          "base_uri": "https://localhost:8080/",
          "height": 109
        },
        "id": "F8RDJxN4LAxv",
        "outputId": "94312174-dfdf-4b9e-e4ef-657133f8ed3b"
      },
      "execution_count": null,
      "outputs": [
        {
          "output_type": "execute_result",
          "data": {
            "text/plain": [
              "   missing_review_id  missing_user_id  missing_app_name  missing_app_category  \\\n",
              "0                  0                0                 0                     0   \n",
              "\n",
              "   missing_review_text  missing_review_language  missing_rating  \\\n",
              "0                   59                        0              37   \n",
              "\n",
              "   missing_review_date  missing_verified_purchase  missing_device_type  \\\n",
              "0                    0                          0                    0   \n",
              "\n",
              "   missing_num_helpful_votes  missing_user_age  missing_user_country  \\\n",
              "0                          0                 0                    41   \n",
              "\n",
              "   missing_user_gender  missing_app_version  \n",
              "0                  587                   30  "
            ],
            "text/html": [
              "\n",
              "  <div id=\"df-9638ab71-8f2f-4b17-9f5e-c451668bf854\" class=\"colab-df-container\">\n",
              "    <div>\n",
              "<style scoped>\n",
              "    .dataframe tbody tr th:only-of-type {\n",
              "        vertical-align: middle;\n",
              "    }\n",
              "\n",
              "    .dataframe tbody tr th {\n",
              "        vertical-align: top;\n",
              "    }\n",
              "\n",
              "    .dataframe thead th {\n",
              "        text-align: right;\n",
              "    }\n",
              "</style>\n",
              "<table border=\"1\" class=\"dataframe\">\n",
              "  <thead>\n",
              "    <tr style=\"text-align: right;\">\n",
              "      <th></th>\n",
              "      <th>missing_review_id</th>\n",
              "      <th>missing_user_id</th>\n",
              "      <th>missing_app_name</th>\n",
              "      <th>missing_app_category</th>\n",
              "      <th>missing_review_text</th>\n",
              "      <th>missing_review_language</th>\n",
              "      <th>missing_rating</th>\n",
              "      <th>missing_review_date</th>\n",
              "      <th>missing_verified_purchase</th>\n",
              "      <th>missing_device_type</th>\n",
              "      <th>missing_num_helpful_votes</th>\n",
              "      <th>missing_user_age</th>\n",
              "      <th>missing_user_country</th>\n",
              "      <th>missing_user_gender</th>\n",
              "      <th>missing_app_version</th>\n",
              "    </tr>\n",
              "  </thead>\n",
              "  <tbody>\n",
              "    <tr>\n",
              "      <th>0</th>\n",
              "      <td>0</td>\n",
              "      <td>0</td>\n",
              "      <td>0</td>\n",
              "      <td>0</td>\n",
              "      <td>59</td>\n",
              "      <td>0</td>\n",
              "      <td>37</td>\n",
              "      <td>0</td>\n",
              "      <td>0</td>\n",
              "      <td>0</td>\n",
              "      <td>0</td>\n",
              "      <td>0</td>\n",
              "      <td>41</td>\n",
              "      <td>587</td>\n",
              "      <td>30</td>\n",
              "    </tr>\n",
              "  </tbody>\n",
              "</table>\n",
              "</div>\n",
              "    <div class=\"colab-df-buttons\">\n",
              "\n",
              "  <div class=\"colab-df-container\">\n",
              "    <button class=\"colab-df-convert\" onclick=\"convertToInteractive('df-9638ab71-8f2f-4b17-9f5e-c451668bf854')\"\n",
              "            title=\"Convert this dataframe to an interactive table.\"\n",
              "            style=\"display:none;\">\n",
              "\n",
              "  <svg xmlns=\"http://www.w3.org/2000/svg\" height=\"24px\" viewBox=\"0 -960 960 960\">\n",
              "    <path d=\"M120-120v-720h720v720H120Zm60-500h600v-160H180v160Zm220 220h160v-160H400v160Zm0 220h160v-160H400v160ZM180-400h160v-160H180v160Zm440 0h160v-160H620v160ZM180-180h160v-160H180v160Zm440 0h160v-160H620v160Z\"/>\n",
              "  </svg>\n",
              "    </button>\n",
              "\n",
              "  <style>\n",
              "    .colab-df-container {\n",
              "      display:flex;\n",
              "      gap: 12px;\n",
              "    }\n",
              "\n",
              "    .colab-df-convert {\n",
              "      background-color: #E8F0FE;\n",
              "      border: none;\n",
              "      border-radius: 50%;\n",
              "      cursor: pointer;\n",
              "      display: none;\n",
              "      fill: #1967D2;\n",
              "      height: 32px;\n",
              "      padding: 0 0 0 0;\n",
              "      width: 32px;\n",
              "    }\n",
              "\n",
              "    .colab-df-convert:hover {\n",
              "      background-color: #E2EBFA;\n",
              "      box-shadow: 0px 1px 2px rgba(60, 64, 67, 0.3), 0px 1px 3px 1px rgba(60, 64, 67, 0.15);\n",
              "      fill: #174EA6;\n",
              "    }\n",
              "\n",
              "    .colab-df-buttons div {\n",
              "      margin-bottom: 4px;\n",
              "    }\n",
              "\n",
              "    [theme=dark] .colab-df-convert {\n",
              "      background-color: #3B4455;\n",
              "      fill: #D2E3FC;\n",
              "    }\n",
              "\n",
              "    [theme=dark] .colab-df-convert:hover {\n",
              "      background-color: #434B5C;\n",
              "      box-shadow: 0px 1px 3px 1px rgba(0, 0, 0, 0.15);\n",
              "      filter: drop-shadow(0px 1px 2px rgba(0, 0, 0, 0.3));\n",
              "      fill: #FFFFFF;\n",
              "    }\n",
              "  </style>\n",
              "\n",
              "    <script>\n",
              "      const buttonEl =\n",
              "        document.querySelector('#df-9638ab71-8f2f-4b17-9f5e-c451668bf854 button.colab-df-convert');\n",
              "      buttonEl.style.display =\n",
              "        google.colab.kernel.accessAllowed ? 'block' : 'none';\n",
              "\n",
              "      async function convertToInteractive(key) {\n",
              "        const element = document.querySelector('#df-9638ab71-8f2f-4b17-9f5e-c451668bf854');\n",
              "        const dataTable =\n",
              "          await google.colab.kernel.invokeFunction('convertToInteractive',\n",
              "                                                    [key], {});\n",
              "        if (!dataTable) return;\n",
              "\n",
              "        const docLinkHtml = 'Like what you see? Visit the ' +\n",
              "          '<a target=\"_blank\" href=https://colab.research.google.com/notebooks/data_table.ipynb>data table notebook</a>'\n",
              "          + ' to learn more about interactive tables.';\n",
              "        element.innerHTML = '';\n",
              "        dataTable['output_type'] = 'display_data';\n",
              "        await google.colab.output.renderOutput(dataTable, element);\n",
              "        const docLink = document.createElement('div');\n",
              "        docLink.innerHTML = docLinkHtml;\n",
              "        element.appendChild(docLink);\n",
              "      }\n",
              "    </script>\n",
              "  </div>\n",
              "\n",
              "\n",
              "  <div id=\"id_e606ae6f-cc6e-43ed-be11-1cae693eb66c\">\n",
              "    <style>\n",
              "      .colab-df-generate {\n",
              "        background-color: #E8F0FE;\n",
              "        border: none;\n",
              "        border-radius: 50%;\n",
              "        cursor: pointer;\n",
              "        display: none;\n",
              "        fill: #1967D2;\n",
              "        height: 32px;\n",
              "        padding: 0 0 0 0;\n",
              "        width: 32px;\n",
              "      }\n",
              "\n",
              "      .colab-df-generate:hover {\n",
              "        background-color: #E2EBFA;\n",
              "        box-shadow: 0px 1px 2px rgba(60, 64, 67, 0.3), 0px 1px 3px 1px rgba(60, 64, 67, 0.15);\n",
              "        fill: #174EA6;\n",
              "      }\n",
              "\n",
              "      [theme=dark] .colab-df-generate {\n",
              "        background-color: #3B4455;\n",
              "        fill: #D2E3FC;\n",
              "      }\n",
              "\n",
              "      [theme=dark] .colab-df-generate:hover {\n",
              "        background-color: #434B5C;\n",
              "        box-shadow: 0px 1px 3px 1px rgba(0, 0, 0, 0.15);\n",
              "        filter: drop-shadow(0px 1px 2px rgba(0, 0, 0, 0.3));\n",
              "        fill: #FFFFFF;\n",
              "      }\n",
              "    </style>\n",
              "    <button class=\"colab-df-generate\" onclick=\"generateWithVariable('df_missing_counts')\"\n",
              "            title=\"Generate code using this dataframe.\"\n",
              "            style=\"display:none;\">\n",
              "\n",
              "  <svg xmlns=\"http://www.w3.org/2000/svg\" height=\"24px\"viewBox=\"0 0 24 24\"\n",
              "       width=\"24px\">\n",
              "    <path d=\"M7,19H8.4L18.45,9,17,7.55,7,17.6ZM5,21V16.75L18.45,3.32a2,2,0,0,1,2.83,0l1.4,1.43a1.91,1.91,0,0,1,.58,1.4,1.91,1.91,0,0,1-.58,1.4L9.25,21ZM18.45,9,17,7.55Zm-12,3A5.31,5.31,0,0,0,4.9,8.1,5.31,5.31,0,0,0,1,6.5,5.31,5.31,0,0,0,4.9,4.9,5.31,5.31,0,0,0,6.5,1,5.31,5.31,0,0,0,8.1,4.9,5.31,5.31,0,0,0,12,6.5,5.46,5.46,0,0,0,6.5,12Z\"/>\n",
              "  </svg>\n",
              "    </button>\n",
              "    <script>\n",
              "      (() => {\n",
              "      const buttonEl =\n",
              "        document.querySelector('#id_e606ae6f-cc6e-43ed-be11-1cae693eb66c button.colab-df-generate');\n",
              "      buttonEl.style.display =\n",
              "        google.colab.kernel.accessAllowed ? 'block' : 'none';\n",
              "\n",
              "      buttonEl.onclick = () => {\n",
              "        google.colab.notebook.generateWithVariable('df_missing_counts');\n",
              "      }\n",
              "      })();\n",
              "    </script>\n",
              "  </div>\n",
              "\n",
              "    </div>\n",
              "  </div>\n"
            ],
            "application/vnd.google.colaboratory.intrinsic+json": {
              "type": "dataframe",
              "variable_name": "df_missing_counts",
              "summary": "{\n  \"name\": \"df_missing_counts\",\n  \"rows\": 1,\n  \"fields\": [\n    {\n      \"column\": \"missing_review_id\",\n      \"properties\": {\n        \"dtype\": \"Int64\",\n        \"num_unique_values\": 1,\n        \"samples\": [\n          0\n        ],\n        \"semantic_type\": \"\",\n        \"description\": \"\"\n      }\n    },\n    {\n      \"column\": \"missing_user_id\",\n      \"properties\": {\n        \"dtype\": \"Int64\",\n        \"num_unique_values\": 1,\n        \"samples\": [\n          0\n        ],\n        \"semantic_type\": \"\",\n        \"description\": \"\"\n      }\n    },\n    {\n      \"column\": \"missing_app_name\",\n      \"properties\": {\n        \"dtype\": \"Int64\",\n        \"num_unique_values\": 1,\n        \"samples\": [\n          0\n        ],\n        \"semantic_type\": \"\",\n        \"description\": \"\"\n      }\n    },\n    {\n      \"column\": \"missing_app_category\",\n      \"properties\": {\n        \"dtype\": \"Int64\",\n        \"num_unique_values\": 1,\n        \"samples\": [\n          0\n        ],\n        \"semantic_type\": \"\",\n        \"description\": \"\"\n      }\n    },\n    {\n      \"column\": \"missing_review_text\",\n      \"properties\": {\n        \"dtype\": \"Int64\",\n        \"num_unique_values\": 1,\n        \"samples\": [\n          59\n        ],\n        \"semantic_type\": \"\",\n        \"description\": \"\"\n      }\n    },\n    {\n      \"column\": \"missing_review_language\",\n      \"properties\": {\n        \"dtype\": \"Int64\",\n        \"num_unique_values\": 1,\n        \"samples\": [\n          0\n        ],\n        \"semantic_type\": \"\",\n        \"description\": \"\"\n      }\n    },\n    {\n      \"column\": \"missing_rating\",\n      \"properties\": {\n        \"dtype\": \"Int64\",\n        \"num_unique_values\": 1,\n        \"samples\": [\n          37\n        ],\n        \"semantic_type\": \"\",\n        \"description\": \"\"\n      }\n    },\n    {\n      \"column\": \"missing_review_date\",\n      \"properties\": {\n        \"dtype\": \"Int64\",\n        \"num_unique_values\": 1,\n        \"samples\": [\n          0\n        ],\n        \"semantic_type\": \"\",\n        \"description\": \"\"\n      }\n    },\n    {\n      \"column\": \"missing_verified_purchase\",\n      \"properties\": {\n        \"dtype\": \"Int64\",\n        \"num_unique_values\": 1,\n        \"samples\": [\n          0\n        ],\n        \"semantic_type\": \"\",\n        \"description\": \"\"\n      }\n    },\n    {\n      \"column\": \"missing_device_type\",\n      \"properties\": {\n        \"dtype\": \"Int64\",\n        \"num_unique_values\": 1,\n        \"samples\": [\n          0\n        ],\n        \"semantic_type\": \"\",\n        \"description\": \"\"\n      }\n    },\n    {\n      \"column\": \"missing_num_helpful_votes\",\n      \"properties\": {\n        \"dtype\": \"Int64\",\n        \"num_unique_values\": 1,\n        \"samples\": [\n          0\n        ],\n        \"semantic_type\": \"\",\n        \"description\": \"\"\n      }\n    },\n    {\n      \"column\": \"missing_user_age\",\n      \"properties\": {\n        \"dtype\": \"Int64\",\n        \"num_unique_values\": 1,\n        \"samples\": [\n          0\n        ],\n        \"semantic_type\": \"\",\n        \"description\": \"\"\n      }\n    },\n    {\n      \"column\": \"missing_user_country\",\n      \"properties\": {\n        \"dtype\": \"Int64\",\n        \"num_unique_values\": 1,\n        \"samples\": [\n          41\n        ],\n        \"semantic_type\": \"\",\n        \"description\": \"\"\n      }\n    },\n    {\n      \"column\": \"missing_user_gender\",\n      \"properties\": {\n        \"dtype\": \"Int64\",\n        \"num_unique_values\": 1,\n        \"samples\": [\n          587\n        ],\n        \"semantic_type\": \"\",\n        \"description\": \"\"\n      }\n    },\n    {\n      \"column\": \"missing_app_version\",\n      \"properties\": {\n        \"dtype\": \"Int64\",\n        \"num_unique_values\": 1,\n        \"samples\": [\n          30\n        ],\n        \"semantic_type\": \"\",\n        \"description\": \"\"\n      }\n    }\n  ]\n}"
            }
          },
          "metadata": {},
          "execution_count": 113
        }
      ]
    },
    {
      "cell_type": "code",
      "source": [
        "# -- Cleaning the Mobile App Review Dataset\n",
        "# -- --------------------------------------\n",
        "# -- 1. Drop rows where review_text is empty or app_version is missing\n",
        "# -- 2. Impute missing rating with AI.GENERATE_INT(...).result (1–5) based on review_text\n",
        "# -- 3. Replace missing user_gender and user_country with 'Unknown'\n",
        "# -- 4. Remove leading 'v' from app_version (e.g., v10.9.10 → 10.9.10)\n",
        "# -- 5. Drop the app_category column (since it is unreliable)\n",
        "\n",
        "query = f\"\"\"\n",
        "CREATE OR REPLACE TABLE {PROJECT_ID}.{DATASET}.cleaned_reviews AS\n",
        "SELECT\n",
        "  review_id,\n",
        "  user_id,\n",
        "  app_name,\n",
        "  review_text,\n",
        "  review_language,\n",
        "  COALESCE(\n",
        "    rating,\n",
        "    AI.GENERATE_DOUBLE(\n",
        "      ('Guess a star rating between 1.0 and 5.0 with exactly one decimal place '\n",
        "       'based ONLY on this review. Example outputs: 1.0, 2.5, 3.3, 5.0. '\n",
        "       'Return just the number with one decimal place: \"', review_text, '\"'),\n",
        "      connection_id => '{VERTEX_CONNECTION}',\n",
        "      endpoint => 'gemini-2.0-flash'\n",
        "    ).result\n",
        "  ) AS rating,\n",
        "  review_date,\n",
        "  verified_purchase,\n",
        "  device_type,\n",
        "  num_helpful_votes,\n",
        "  user_age,\n",
        "  IFNULL(user_country, 'Unknown') AS user_country,\n",
        "  IFNULL(user_gender, 'Unknown') AS user_gender,\n",
        "  REGEXP_REPLACE(app_version, r'^v', '') AS app_version\n",
        "FROM `{PROJECT_ID}.{DATASET}.{TABLE}`\n",
        "WHERE review_text IS NOT NULL AND review_text != ''\n",
        "  AND app_version IS NOT NULL;\n",
        "\"\"\""
      ],
      "metadata": {
        "id": "S7F1L23K_70y"
      },
      "execution_count": null,
      "outputs": []
    },
    {
      "cell_type": "code",
      "source": [
        "job = bq.query(query)\n",
        "job.result()  # waits for the query to finish\n",
        "print(\"✅ Cleaned table created successfully!\")\n",
        "CLEANED_TABLE = 'cleaned_reviews'"
      ],
      "metadata": {
        "colab": {
          "base_uri": "https://localhost:8080/"
        },
        "id": "WGSlbO5hJVV9",
        "outputId": "b286b002-46b6-40cd-c1ec-41a23b7c4274"
      },
      "execution_count": null,
      "outputs": [
        {
          "output_type": "stream",
          "name": "stdout",
          "text": [
            "✅ Cleaned table created successfully!\n"
          ]
        }
      ]
    },
    {
      "cell_type": "code",
      "source": [
        "query_top_apps = f\"\"\"\n",
        "SELECT app_name, COUNT(*) AS review_count\n",
        "FROM `{PROJECT_ID}.{DATASET}.{CLEANED_TABLE}`\n",
        "GROUP BY app_name\n",
        "ORDER BY review_count DESC\n",
        "LIMIT 10\n",
        "\"\"\"\n",
        "df_top_apps = bq.query(query_top_apps).to_dataframe()\n",
        "\n",
        "plt.figure(figsize=(10,6))\n",
        "plt.barh(df_top_apps['app_name'], df_top_apps['review_count'])\n",
        "plt.xlabel(\"Number of Reviews\")\n",
        "plt.ylabel(\"App Name\")\n",
        "plt.title(\"Top 10 Most Reviewed Apps\")\n",
        "plt.gca().invert_yaxis()  # Largest bar at top\n",
        "plt.show()"
      ],
      "metadata": {
        "colab": {
          "base_uri": "https://localhost:8080/",
          "height": 564
        },
        "id": "UTR4ZK0KK54c",
        "outputId": "5df5e8c0-e667-4d19-be9d-fb57475d57a8"
      },
      "execution_count": null,
      "outputs": [
        {
          "output_type": "display_data",
          "data": {
            "text/plain": [
              "<Figure size 1000x600 with 1 Axes>"
            ],
            "image/png": "[encoded data removed]"
          },
          "metadata": {}
        }
      ]
    },
    {
      "cell_type": "code",
      "source": [
        "query_rating_dist = f\"\"\"\n",
        "SELECT\n",
        "  CAST(GREATEST(1, LEAST(5, FLOOR(CAST(rating AS FLOAT64) + 0.5))) AS INT64) AS rounded_rating,\n",
        "  COUNT(*) AS n\n",
        "FROM `{PROJECT_ID}.{DATASET}.{CLEANED_TABLE}`\n",
        "GROUP BY rounded_rating\n",
        "\"\"\"\n",
        "\n",
        "df_rating = bq.query(query_rating_dist).to_dataframe()\n",
        "\n",
        "# Ensure all 1..5 buckets exist (even if zero)\n",
        "all_ratings = pd.DataFrame({'rounded_rating': [1, 2, 3, 4, 5]})\n",
        "df_rating = (all_ratings\n",
        "             .merge(df_rating, on='rounded_rating', how='left')\n",
        "             .fillna({'n': 0})\n",
        "             .sort_values('rounded_rating'))\n",
        "\n",
        "plt.figure(figsize=(8,5))\n",
        "plt.bar(df_rating['rounded_rating'].astype(str), df_rating['n'])\n",
        "plt.xlabel(\"Star rating (rounded)\")\n",
        "plt.ylabel(\"Number of reviews\")\n",
        "plt.title(\"Rating Distribution (rounded; .5 rounds up)\")\n",
        "plt.show()"
      ],
      "metadata": {
        "colab": {
          "base_uri": "https://localhost:8080/",
          "height": 487
        },
        "id": "e4yyGPOVldlM",
        "outputId": "416a0962-8f86-47cf-9a4c-24e81a2e1772"
      },
      "execution_count": null,
      "outputs": [
        {
          "output_type": "display_data",
          "data": {
            "text/plain": [
              "<Figure size 800x500 with 1 Axes>"
            ],
            "image/png": "[encoded data removed]"
          },
          "metadata": {}
        }
      ]
    },
    {
      "cell_type": "code",
      "source": [
        "query_app_ratings = f\"\"\"\n",
        "SELECT\n",
        "  app_name,\n",
        "  AVG(CAST(rating AS FLOAT64)) AS avg_rating,\n",
        "  COUNT(*) AS n_reviews\n",
        "FROM `{PROJECT_ID}.{DATASET}.{CLEANED_TABLE}`\n",
        "GROUP BY app_name\n",
        "HAVING n_reviews > 10   -- filter out apps with very few reviews (optional)\n",
        "\"\"\"\n",
        "\n",
        "df_apps = bq.query(query_app_ratings).to_dataframe()\n",
        "\n",
        "# Top 5 and bottom 5\n",
        "df_top5 = df_apps.sort_values(\"avg_rating\", ascending=False).head(5)\n",
        "df_bottom5 = df_apps.sort_values(\"avg_rating\", ascending=True).head(5)\n",
        "\n",
        "# Create side-by-side plots\n",
        "fig, axes = plt.subplots(1, 2, figsize=(16,6), sharey=True)\n",
        "\n",
        "# --- Left: Top 5\n",
        "bars = axes[0].bar(df_top5[\"app_name\"], df_top5[\"avg_rating\"], color=\"green\")\n",
        "axes[0].set_title(\"Top 5 Highest Rated Apps\")\n",
        "axes[0].set_ylabel(\"Average Rating\")\n",
        "axes[0].set_ylim(0, 5.5)\n",
        "plt.setp(axes[0].get_xticklabels(), rotation=45, ha=\"right\")\n",
        "\n",
        "for bar, rating in zip(bars, df_top5[\"avg_rating\"]):\n",
        "    axes[0].text(bar.get_x() + bar.get_width()/2,\n",
        "                 bar.get_height() + 0.05,\n",
        "                 f\"{rating:.2f}\",\n",
        "                 ha=\"center\", va=\"bottom\", fontsize=9, fontweight=\"bold\")\n",
        "\n",
        "# --- Right: Bottom 5\n",
        "bars = axes[1].bar(df_bottom5[\"app_name\"], df_bottom5[\"avg_rating\"], color=\"red\")\n",
        "axes[1].set_title(\"Top 5 Lowest Rated Apps\")\n",
        "axes[1].set_ylim(0, 5.5)\n",
        "plt.setp(axes[1].get_xticklabels(), rotation=45, ha=\"right\")\n",
        "\n",
        "for bar, rating in zip(bars, df_bottom5[\"avg_rating\"]):\n",
        "    axes[1].text(bar.get_x() + bar.get_width()/2,\n",
        "                 bar.get_height() + 0.05,\n",
        "                 f\"{rating:.2f}\",\n",
        "                 ha=\"center\", va=\"bottom\", fontsize=9, fontweight=\"bold\")\n",
        "\n",
        "plt.tight_layout()\n",
        "plt.show()"
      ],
      "metadata": {
        "colab": {
          "base_uri": "https://localhost:8080/",
          "height": 607
        },
        "id": "IbzGLRJcrdhq",
        "outputId": "1dfb776d-27b0-4462-8665-277633a23ee0"
      },
      "execution_count": null,
      "outputs": [
        {
          "output_type": "display_data",
          "data": {
            "text/plain": [
              "<Figure size 1600x600 with 2 Axes>"
            ],
            "image/png": "[encoded data removed]"
          },
          "metadata": {}
        }
      ]
    },
    {
      "cell_type": "code",
      "source": [
        "query_country_avg = f\"\"\"\n",
        "SELECT\n",
        "  user_country AS country,\n",
        "  AVG(CAST(rating AS FLOAT64)) AS avg_rating\n",
        "FROM `{PROJECT_ID}.{DATASET}.{CLEANED_TABLE}`\n",
        "WHERE user_country IS NOT NULL\n",
        "  AND user_country != ''\n",
        "  AND LOWER(user_country) != 'unknown'\n",
        "GROUP BY country\n",
        "ORDER BY avg_rating DESC\n",
        "\"\"\"\n",
        "\n",
        "df_country_avg = bq.query(query_country_avg).to_dataframe()\n",
        "\n",
        "fig_avg = px.choropleth(\n",
        "    df_country_avg,\n",
        "    locations=\"country\",\n",
        "    locationmode=\"country names\",\n",
        "    color=\"avg_rating\",\n",
        "    color_continuous_scale=\"Viridis\",\n",
        "    range_color=(2.75, 3.25),\n",
        "    title=\"Average Rating by Country (1–5)\"\n",
        ")\n",
        "fig_avg.update_coloraxes(colorbar_title=\"Avg rating\")\n",
        "fig_avg.show()"
      ],
      "metadata": {
        "colab": {
          "base_uri": "https://localhost:8080/",
          "height": 542
        },
        "id": "1sAL3PL0o3Ia",
        "outputId": "57dfe289-84e8-4882-f3d2-db7deab1adf0"
      },
      "execution_count": null,
      "outputs": [
        {
          "output_type": "display_data",
          "data": {
            "text/html": [
              "<html>\n",
              "<head><meta charset=\"utf-8\" /></head>\n",
              "<body>\n",
              "    <div>            <script src=\"https://cdnjs.cloudflare.com/ajax/libs/mathjax/2.7.5/MathJax.js?config=TeX-AMS-MML_SVG\"></script><script type=\"text/javascript\">if (window.MathJax && window.MathJax.Hub && window.MathJax.Hub.Config) {window.MathJax.Hub.Config({SVG: {font: \"STIX-Web\"}});}</script>                <script type=\"text/javascript\">window.PlotlyConfig = {MathJaxConfig: 'local'};</script>\n",
              "        <script charset=\"utf-8\" src=\"https://cdn.plot.ly/plotly-2.35.2.min.js\"></script>                <div id=\"26bd1f83-6fed-419f-8609-9b9b34593ff3\" class=\"plotly-graph-div\" style=\"height:525px; width:100%;\"></div>            <script type=\"text/javascript\">                                    window.PLOTLYENV=window.PLOTLYENV || {};                                    if (document.getElementById(\"26bd1f83-6fed-419f-8609-9b9b34593ff3\")) {                    Plotly.newPlot(                        \"26bd1f83-6fed-419f-8609-9b9b34593ff3\",                        [{\"coloraxis\":\"coloraxis\",\"geo\":\"geo\",\"hovertemplate\":\"country=%{location}\\u003cbr\\u003eavg_rating=%{z}\\u003cextra\\u003e\\u003c\\u002fextra\\u003e\",\"locationmode\":\"country names\",\"locations\":[\"France\",\"Brazil\",\"Thailand\",\"Russia\",\"Turkey\",\"United States\",\"Philippines\",\"South Korea\",\"India\",\"Nigeria\",\"Mexico\",\"Vietnam\",\"Canada\",\"Japan\",\"United Kingdom\",\"Bangladesh\",\"Italy\",\"Indonesia\",\"Australia\",\"Pakistan\",\"Germany\",\"China\",\"Malaysia\",\"Spain\"],\"name\":\"\",\"z\":[3.247777777777778,3.226315789473684,3.2227272727272718,3.1284210526315777,3.1205357142857144,3.1152941176470588,3.1058823529411774,3.095698924731183,3.06826923076923,3.057,3.0326923076923076,3.008571428571428,2.990697674418604,2.9878787878787887,2.967307692307692,2.9526881720430116,2.9523809523809508,2.9513761467889927,2.9307086614173237,2.909574468085106,2.89655172413793,2.871578947368421,2.856190476190476,2.8552083333333336],\"type\":\"choropleth\"}],                        {\"template\":{\"data\":{\"histogram2dcontour\":[{\"type\":\"histogram2dcontour\",\"colorbar\":{\"outlinewidth\":0,\"ticks\":\"\"},\"colorscale\":[[0.0,\"#0d0887\"],[0.1111111111111111,\"#46039f\"],[0.2222222222222222,\"#7201a8\"],[0.3333333333333333,\"#9c179e\"],[0.4444444444444444,\"#bd3786\"],[0.5555555555555556,\"#d8576b\"],[0.6666666666666666,\"#ed7953\"],[0.7777777777777778,\"#fb9f3a\"],[0.8888888888888888,\"#fdca26\"],[1.0,\"#f0f921\"]]}],\"choropleth\":[{\"type\":\"choropleth\",\"colorbar\":{\"outlinewidth\":0,\"ticks\":\"\"}}],\"histogram2d\":[{\"type\":\"histogram2d\",\"colorbar\":{\"outlinewidth\":0,\"ticks\":\"\"},\"colorscale\":[[0.0,\"#0d0887\"],[0.1111111111111111,\"#46039f\"],[0.2222222222222222,\"#7201a8\"],[0.3333333333333333,\"#9c179e\"],[0.4444444444444444,\"#bd3786\"],[0.5555555555555556,\"#d8576b\"],[0.6666666666666666,\"#ed7953\"],[0.7777777777777778,\"#fb9f3a\"],[0.8888888888888888,\"#fdca26\"],[1.0,\"#f0f921\"]]}],\"heatmap\":[{\"type\":\"heatmap\",\"colorbar\":{\"outlinewidth\":0,\"ticks\":\"\"},\"colorscale\":[[0.0,\"#0d0887\"],[0.1111111111111111,\"#46039f\"],[0.2222222222222222,\"#7201a8\"],[0.3333333333333333,\"#9c179e\"],[0.4444444444444444,\"#bd3786\"],[0.5555555555555556,\"#d8576b\"],[0.6666666666666666,\"#ed7953\"],[0.7777777777777778,\"#fb9f3a\"],[0.8888888888888888,\"#fdca26\"],[1.0,\"#f0f921\"]]}],\"heatmapgl\":[{\"type\":\"heatmapgl\",\"colorbar\":{\"outlinewidth\":0,\"ticks\":\"\"},\"colorscale\":[[0.0,\"#0d0887\"],[0.1111111111111111,\"#46039f\"],[0.2222222222222222,\"#7201a8\"],[0.3333333333333333,\"#9c179e\"],[0.4444444444444444,\"#bd3786\"],[0.5555555555555556,\"#d8576b\"],[0.6666666666666666,\"#ed7953\"],[0.7777777777777778,\"#fb9f3a\"],[0.8888888888888888,\"#fdca26\"],[1.0,\"#f0f921\"]]}],\"contourcarpet\":[{\"type\":\"contourcarpet\",\"colorbar\":{\"outlinewidth\":0,\"ticks\":\"\"}}],\"contour\":[{\"type\":\"contour\",\"colorbar\":{\"outlinewidth\":0,\"ticks\":\"\"},\"colorscale\":[[0.0,\"#0d0887\"],[0.1111111111111111,\"#46039f\"],[0.2222222222222222,\"#7201a8\"],[0.3333333333333333,\"#9c179e\"],[0.4444444444444444,\"#bd3786\"],[0.5555555555555556,\"#d8576b\"],[0.6666666666666666,\"#ed7953\"],[0.7777777777777778,\"#fb9f3a\"],[0.8888888888888888,\"#fdca26\"],[1.0,\"#f0f921\"]]}],\"surface\":[{\"type\":\"surface\",\"colorbar\":{\"outlinewidth\":0,\"ticks\":\"\"},\"colorscale\":[[0.0,\"#0d0887\"],[0.1111111111111111,\"#46039f\"],[0.2222222222222222,\"#7201a8\"],[0.3333333333333333,\"#9c179e\"],[0.4444444444444444,\"#bd3786\"],[0.5555555555555556,\"#d8576b\"],[0.6666666666666666,\"#ed7953\"],[0.7777777777777778,\"#fb9f3a\"],[0.8888888888888888,\"#fdca26\"],[1.0,\"#f0f921\"]]}],\"mesh3d\":[{\"type\":\"mesh3d\",\"colorbar\":{\"outlinewidth\":0,\"ticks\":\"\"}}],\"scatter\":[{\"fillpattern\":{\"fillmode\":\"overlay\",\"size\":10,\"solidity\":0.2},\"type\":\"scatter\"}],\"parcoords\":[{\"type\":\"parcoords\",\"line\":{\"colorbar\":{\"outlinewidth\":0,\"ticks\":\"\"}}}],\"scatterpolargl\":[{\"type\":\"scatterpolargl\",\"marker\":{\"colorbar\":{\"outlinewidth\":0,\"ticks\":\"\"}}}],\"bar\":[{\"error_x\":{\"color\":\"#2a3f5f\"},\"error_y\":{\"color\":\"#2a3f5f\"},\"marker\":{\"line\":{\"color\":\"#E5ECF6\",\"width\":0.5},\"pattern\":{\"fillmode\":\"overlay\",\"size\":10,\"solidity\":0.2}},\"type\":\"bar\"}],\"scattergeo\":[{\"type\":\"scattergeo\",\"marker\":{\"colorbar\":{\"outlinewidth\":0,\"ticks\":\"\"}}}],\"scatterpolar\":[{\"type\":\"scatterpolar\",\"marker\":{\"colorbar\":{\"outlinewidth\":0,\"ticks\":\"\"}}}],\"histogram\":[{\"marker\":{\"pattern\":{\"fillmode\":\"overlay\",\"size\":10,\"solidity\":0.2}},\"type\":\"histogram\"}],\"scattergl\":[{\"type\":\"scattergl\",\"marker\":{\"colorbar\":{\"outlinewidth\":0,\"ticks\":\"\"}}}],\"scatter3d\":[{\"type\":\"scatter3d\",\"line\":{\"colorbar\":{\"outlinewidth\":0,\"ticks\":\"\"}},\"marker\":{\"colorbar\":{\"outlinewidth\":0,\"ticks\":\"\"}}}],\"scattermapbox\":[{\"type\":\"scattermapbox\",\"marker\":{\"colorbar\":{\"outlinewidth\":0,\"ticks\":\"\"}}}],\"scatterternary\":[{\"type\":\"scatterternary\",\"marker\":{\"colorbar\":{\"outlinewidth\":0,\"ticks\":\"\"}}}],\"scattercarpet\":[{\"type\":\"scattercarpet\",\"marker\":{\"colorbar\":{\"outlinewidth\":0,\"ticks\":\"\"}}}],\"carpet\":[{\"aaxis\":{\"endlinecolor\":\"#2a3f5f\",\"gridcolor\":\"white\",\"linecolor\":\"white\",\"minorgridcolor\":\"white\",\"startlinecolor\":\"#2a3f5f\"},\"baxis\":{\"endlinecolor\":\"#2a3f5f\",\"gridcolor\":\"white\",\"linecolor\":\"white\",\"minorgridcolor\":\"white\",\"startlinecolor\":\"#2a3f5f\"},\"type\":\"carpet\"}],\"table\":[{\"cells\":{\"fill\":{\"color\":\"#EBF0F8\"},\"line\":{\"color\":\"white\"}},\"header\":{\"fill\":{\"color\":\"#C8D4E3\"},\"line\":{\"color\":\"white\"}},\"type\":\"table\"}],\"barpolar\":[{\"marker\":{\"line\":{\"color\":\"#E5ECF6\",\"width\":0.5},\"pattern\":{\"fillmode\":\"overlay\",\"size\":10,\"solidity\":0.2}},\"type\":\"barpolar\"}],\"pie\":[{\"automargin\":true,\"type\":\"pie\"}]},\"layout\":{\"autotypenumbers\":\"strict\",\"colorway\":[\"#636efa\",\"#EF553B\",\"#00cc96\",\"#ab63fa\",\"#FFA15A\",\"#19d3f3\",\"#FF6692\",\"#B6E880\",\"#FF97FF\",\"#FECB52\"],\"font\":{\"color\":\"#2a3f5f\"},\"hovermode\":\"closest\",\"hoverlabel\":{\"align\":\"left\"},\"paper_bgcolor\":\"white\",\"plot_bgcolor\":\"#E5ECF6\",\"polar\":{\"bgcolor\":\"#E5ECF6\",\"angularaxis\":{\"gridcolor\":\"white\",\"linecolor\":\"white\",\"ticks\":\"\"},\"radialaxis\":{\"gridcolor\":\"white\",\"linecolor\":\"white\",\"ticks\":\"\"}},\"ternary\":{\"bgcolor\":\"#E5ECF6\",\"aaxis\":{\"gridcolor\":\"white\",\"linecolor\":\"white\",\"ticks\":\"\"},\"baxis\":{\"gridcolor\":\"white\",\"linecolor\":\"white\",\"ticks\":\"\"},\"caxis\":{\"gridcolor\":\"white\",\"linecolor\":\"white\",\"ticks\":\"\"}},\"coloraxis\":{\"colorbar\":{\"outlinewidth\":0,\"ticks\":\"\"}},\"colorscale\":{\"sequential\":[[0.0,\"#0d0887\"],[0.1111111111111111,\"#46039f\"],[0.2222222222222222,\"#7201a8\"],[0.3333333333333333,\"#9c179e\"],[0.4444444444444444,\"#bd3786\"],[0.5555555555555556,\"#d8576b\"],[0.6666666666666666,\"#ed7953\"],[0.7777777777777778,\"#fb9f3a\"],[0.8888888888888888,\"#fdca26\"],[1.0,\"#f0f921\"]],\"sequentialminus\":[[0.0,\"#0d0887\"],[0.1111111111111111,\"#46039f\"],[0.2222222222222222,\"#7201a8\"],[0.3333333333333333,\"#9c179e\"],[0.4444444444444444,\"#bd3786\"],[0.5555555555555556,\"#d8576b\"],[0.6666666666666666,\"#ed7953\"],[0.7777777777777778,\"#fb9f3a\"],[0.8888888888888888,\"#fdca26\"],[1.0,\"#f0f921\"]],\"diverging\":[[0,\"#8e0152\"],[0.1,\"#c51b7d\"],[0.2,\"#de77ae\"],[0.3,\"#f1b6da\"],[0.4,\"#fde0ef\"],[0.5,\"#f7f7f7\"],[0.6,\"#e6f5d0\"],[0.7,\"#b8e186\"],[0.8,\"#7fbc41\"],[0.9,\"#4d9221\"],[1,\"#276419\"]]},\"xaxis\":{\"gridcolor\":\"white\",\"linecolor\":\"white\",\"ticks\":\"\",\"title\":{\"standoff\":15},\"zerolinecolor\":\"white\",\"automargin\":true,\"zerolinewidth\":2},\"yaxis\":{\"gridcolor\":\"white\",\"linecolor\":\"white\",\"ticks\":\"\",\"title\":{\"standoff\":15},\"zerolinecolor\":\"white\",\"automargin\":true,\"zerolinewidth\":2},\"scene\":{\"xaxis\":{\"backgroundcolor\":\"#E5ECF6\",\"gridcolor\":\"white\",\"linecolor\":\"white\",\"showbackground\":true,\"ticks\":\"\",\"zerolinecolor\":\"white\",\"gridwidth\":2},\"yaxis\":{\"backgroundcolor\":\"#E5ECF6\",\"gridcolor\":\"white\",\"linecolor\":\"white\",\"showbackground\":true,\"ticks\":\"\",\"zerolinecolor\":\"white\",\"gridwidth\":2},\"zaxis\":{\"backgroundcolor\":\"#E5ECF6\",\"gridcolor\":\"white\",\"linecolor\":\"white\",\"showbackground\":true,\"ticks\":\"\",\"zerolinecolor\":\"white\",\"gridwidth\":2}},\"shapedefaults\":{\"line\":{\"color\":\"#2a3f5f\"}},\"annotationdefaults\":{\"arrowcolor\":\"#2a3f5f\",\"arrowhead\":0,\"arrowwidth\":1},\"geo\":{\"bgcolor\":\"white\",\"landcolor\":\"#E5ECF6\",\"subunitcolor\":\"white\",\"showland\":true,\"showlakes\":true,\"lakecolor\":\"white\"},\"title\":{\"x\":0.05},\"mapbox\":{\"style\":\"light\"}}},\"geo\":{\"domain\":{\"x\":[0.0,1.0],\"y\":[0.0,1.0]},\"center\":{}},\"coloraxis\":{\"colorbar\":{\"title\":{\"text\":\"Avg rating\"}},\"colorscale\":[[0.0,\"#440154\"],[0.1111111111111111,\"#482878\"],[0.2222222222222222,\"#3e4989\"],[0.3333333333333333,\"#31688e\"],[0.4444444444444444,\"#26828e\"],[0.5555555555555556,\"#1f9e89\"],[0.6666666666666666,\"#35b779\"],[0.7777777777777778,\"#6ece58\"],[0.8888888888888888,\"#b5de2b\"],[1.0,\"#fde725\"]],\"cmin\":2.75,\"cmax\":3.25},\"legend\":{\"tracegroupgap\":0},\"title\":{\"text\":\"Average Rating by Country (1–5)\"}},                        {\"responsive\": true}                    ).then(function(){\n",
              "                            \n",
              "var gd = document.getElementById('26bd1f83-6fed-419f-8609-9b9b34593ff3');\n",
              "var x = new MutationObserver(function (mutations, observer) {{\n",
              "        var display = window.getComputedStyle(gd).display;\n",
              "        if (!display || display === 'none') {{\n",
              "            console.log([gd, 'removed!']);\n",
              "            Plotly.purge(gd);\n",
              "            observer.disconnect();\n",
              "        }}\n",
              "}});\n",
              "\n",
              "// Listen for the removal of the full notebook cells\n",
              "var notebookContainer = gd.closest('#notebook-container');\n",
              "if (notebookContainer) {{\n",
              "    x.observe(notebookContainer, {childList: true});\n",
              "}}\n",
              "\n",
              "// Listen for the clearing of the current output cell\n",
              "var outputEl = gd.closest('.output');\n",
              "if (outputEl) {{\n",
              "    x.observe(outputEl, {childList: true});\n",
              "}}\n",
              "\n",
              "                        })                };                            </script>        </div>\n",
              "</body>\n",
              "</html>"
            ]
          },
          "metadata": {}
        }
      ]
    },
    {
      "cell_type": "markdown",
      "source": [
        "# AI-Powered Insights"
      ],
      "metadata": {
        "id": "O4gwMHa5JOlF"
      }
    },
    {
      "cell_type": "code",
      "source": [
        "create_text_model_sql = f\"\"\"\n",
        "CREATE OR REPLACE MODEL `{PROJECT_ID}.{DATASET}.text_gen_model`\n",
        "REMOTE WITH CONNECTION `{VERTEX_CONNECTION}`\n",
        "OPTIONS (ENDPOINT = \"gemini-2.5-flash\");\n",
        "\"\"\"\n",
        "bq.query(create_text_model_sql).result()\n",
        "print(\"✅ Text generation model created: text_gen_model\")"
      ],
      "metadata": {
        "colab": {
          "base_uri": "https://localhost:8080/"
        },
        "id": "F_HYX-ovYSX1",
        "outputId": "cfb0470d-1e4d-4fa9-d8b8-08ac38088cef"
      },
      "execution_count": null,
      "outputs": [
        {
          "output_type": "stream",
          "name": "stdout",
          "text": [
            "✅ Text generation model created: text_gen_model\n"
          ]
        }
      ]
    },
    {
      "cell_type": "code",
      "source": [
        "def app_analysis(target_app):\n",
        "    # Step 1: Pull all reviews for the given app\n",
        "    review_query = f\"\"\"\n",
        "    SELECT\n",
        "      review_id,\n",
        "      review_text,\n",
        "      rating,\n",
        "      user_country\n",
        "    FROM `{PROJECT_ID}.{DATASET}.{CLEANED_TABLE}`\n",
        "    WHERE app_name = @target_app\n",
        "      AND review_text IS NOT NULL\n",
        "      AND review_text != ''\n",
        "    LIMIT 200  -- safeguard so we don't overload context\n",
        "    \"\"\"\n",
        "\n",
        "    job_config = bigquery.QueryJobConfig(\n",
        "        query_parameters=[\n",
        "            bigquery.ScalarQueryParameter(\"target_app\", \"STRING\", target_app)\n",
        "        ]\n",
        "    )\n",
        "    reviews_df = bq.query(review_query, job_config=job_config).to_dataframe()\n",
        "\n",
        "    # Step 2: Build the context text\n",
        "    context_parts = []\n",
        "    for idx, review in reviews_df.iterrows():\n",
        "        context_parts.append(\n",
        "            f\"Review {idx+1} (Rating: {review['rating']}/5, {review['review_text']}\"\n",
        "        )\n",
        "    context = \" \".join(context_parts)\n",
        "\n",
        "    # Step 3: Use AI.GENERATE to analyze and suggest improvements\n",
        "    gen_text_query = f\"\"\"\n",
        "    SELECT\n",
        "      AI.GENERATE(\n",
        "        ('''\n",
        "        <role>\n",
        "        You are a product analyst.\n",
        "        </role>\n",
        "\n",
        "        <instructions>\n",
        "        Analyze the following user reviews for {target_app}.\n",
        "        If a review is not in English, translate it before considering its content for the analysis.\n",
        "        Provide:\n",
        "        1. A high-level summary of user sentiment.\n",
        "        2. Key recurring themes (positive and negative).\n",
        "        3. Specific actionable improvements that the product team should prioritize.\n",
        "        </instructions>\n",
        "\n",
        "        <context>\n",
        "        Reviews:\n",
        "        {context}\n",
        "        </context>\n",
        "        '''),\n",
        "        connection_id => '{VERTEX_CONNECTION}',\n",
        "        endpoint => 'gemini-2.0-flash'\n",
        "      ).result AS analysis\n",
        "    \"\"\"\n",
        "\n",
        "    llm_result = bq.query(gen_text_query).to_dataframe()\n",
        "    return llm_result[\"analysis\"].iloc[0]"
      ],
      "metadata": {
        "id": "aIyKLv_z2sNz"
      },
      "execution_count": null,
      "outputs": []
    },
    {
      "cell_type": "code",
      "source": [
        "app_name = 'Amazon'  #@param [\"YouTube\", \"Signal\", \"Pinterest\", \"Instagram\", \"eBay\", \"Microsoft Office\", \"WhatsApp\", \"Canva\", \"Coursera\", \"Grammarly\", \"MX Player\", \"Google Maps\", \"Reddit\", \"Twitter\", \"Discord\", \"VLC\", \"Spotify\", \"Waze\", \"Facebook\", \"Udemy\", \"TikTok\", \"Google Drive\", \"OneDrive\", \"Airbnb\", \"Telegram\", \"Netflix\", \"Amazon\", \"Uber\", \"Zoom\", \"LinkedIn\", \"Venmo\", \"Tinder\", \"Dropbox\", \"Lyft\", \"Adobe Photoshop\", \"Snapchat\", \"Duolingo\", \"Bumble\", \"Khan Academy\", \"Booking.com\", \"PayPal\"]\n",
        "\n",
        "print(app_analysis(f\"{app_name}\"))"
      ],
      "metadata": {
        "colab": {
          "base_uri": "https://localhost:8080/"
        },
        "id": "WasYFrDL7F9X",
        "outputId": "75a94416-acd7-4e75-80b4-4eb9cb3825f3"
      },
      "execution_count": null,
      "outputs": [
        {
          "output_type": "stream",
          "name": "stdout",
          "text": [
            "Okay, I will analyze the provided user reviews for the Amazon product, focusing on sentiment, key themes, and actionable improvements.\n",
            "\n",
            "**Translations of Non-English Reviews:**\n",
            "\n",
            "*   **Review 5:** \"Nisi reprehenderit natus porro sint commodi. Perferendis qui amet dignissimos corporis qui libero dolore.\" - This Latin translates roughly to: \"Unless born again, therefore, a sinless trade. Who prefers to adorn bodies with dignified liberty of pain.\" This seems to be an automatically generated text, and does not contain any relevant feedback about the product.\n",
            "*   **Review 18:** \"Architecto minus quaerat delectus saepe corporis.\" - This Latin translates roughly to: \"Architect or less seeks pleasure often body.\" This also seems to be automatically generated text, and does not contain any relevant feedback about the product.\n",
            "*   **Review 30:** \"Est tempora et voluptatum quis corrupti sequi.\" - This Latin translates roughly to: \"It is time and who wants to follow corrupt pleasures.\" This also seems to be automatically generated text, and does not contain any relevant feedback about the product.\n",
            "*   **Review 34:** \"大小正在不要图片提供.\" - This Chinese translates to: \"Size is not providing pictures.\" This suggests a problem with image display or size within the app.\n",
            "*   **Review 44:** \"Arme couche confier chaque anglais rester classe entourer. Jeune signer construire solitude vide frapper volonté.\" - This French translates roughly to: \"Poor layer entrust each English stay class surround. Young sign build loneliness empty hit will.\" This seems to be an automatically generated text, and does not contain any relevant feedback about the product.\n",
            "*   **Review 53:** \"更新类型电子. 这个支持有限决定.\" - This Chinese translates to: \"Update type electronic. This limited support decision.\" This indicates concerns about support for new updates.\n",
            "\n",
            "**1. High-Level Summary of User Sentiment:**\n",
            "\n",
            "The user sentiment is mixed, tending towards neutral to slightly positive. While there are many positive comments praising the app's usability and features, significant negative feedback revolves around app stability (crashing), bugs, the interface, and intrusive advertising. Recent updates seem to have introduced new issues for some users.\n",
            "\n",
            "**2. Key Recurring Themes:**\n",
            "\n",
            "*   **Positive Themes:**\n",
            "    *   **User-Friendly Design:** Many users appreciate the app's easy-to-use interface and smooth performance (when it works).\n",
            "    *   **Good for Daily Use:** Several users explicitly state that the app is perfect for daily use and recommend it.\n",
            "    *   **Excellent Customer Support and Regular Feature Updates:** A consistent theme is appreciation for the responsiveness of customer support and the continuous improvement of the app through updates.\n",
            "    *   **Works Perfectly on Device:** Some users report a flawless experience with no issues.\n",
            "\n",
            "*   **Negative Themes:**\n",
            "    *   **Crashing/Stability Issues:** This is the most significant and frequent complaint. Many users experience crashes, hindering usability.\n",
            "    *   **Bugs:** Several users mention general bugs that need fixing, suggesting a lack of polish.\n",
            "    *   **Too Many Ads:** Intrusive advertising is a recurring pain point, pushing users towards wanting a premium, ad-free version.\n",
            "    *   **Interface Could Be Better:** Although some users like the design, a substantial number feel the interface needs improvement, suggesting it might be unintuitive or clunky.\n",
            "    *   **Latest Update Broke Features:** Recent updates seem to have introduced new bugs or broken existing functionalities, leading to user frustration.\n",
            "    *    **Image display issues**: Some users have reported that the image display or size within the app is not functioning correctly.\n",
            "    *   **Limited Support for Updates**: One user expressed concerns about the level of support provided for new updates.\n",
            "\n",
            "**3. Specific Actionable Improvements:**\n",
            "\n",
            "Based on the analysis, the product team should prioritize the following:\n",
            "\n",
            "1.  **Address Crashing/Stability Issues Immediately:** This is the top priority. The development team needs to investigate and fix the causes of the frequent crashes. This could involve rigorous testing on various devices and operating systems.\n",
            "\n",
            "2.  **Bug Fixing and Code Optimization:**  Implement a thorough bug-fixing process and optimize the code to improve performance and stability.  Focus on addressing the specific bugs users are reporting.\n",
            "\n",
            "3.  **Re-evaluate Recent Updates:** Investigate the reported issues stemming from recent updates. If necessary, consider rolling back problematic changes or releasing a hotfix to address the broken features.\n",
            "\n",
            "4.  **Optimize Interface:** Review user feedback on the interface and identify areas for improvement. Consider A/B testing different UI elements to determine what works best for users.\n",
            "\n",
            "5.  **Consider a Premium Ad-Free Version:** The frequency of complaints about ads suggests a strong potential market for a premium version of the app that removes ads. Implement a subscription model that provides users with an ad-free experience.\n",
            "\n",
            "6.  **Investigate Image Display Issue**: Investigate and resolve the image display issue reported in one of the reviews.\n",
            "\n",
            "7.  **Improve Support for Updates**: Ensure comprehensive support and resources are available for users adapting to new updates, addressing any confusion or issues that may arise.\n",
            "\n",
            "By addressing these issues, the product team can significantly improve user satisfaction and the overall rating of the app.\n",
            "\n"
          ]
        }
      ]
    },
    {
      "cell_type": "markdown",
      "source": [
        "# Embedding & Chatbot"
      ],
      "metadata": {
        "id": "wF-x8hzrKb0F"
      }
    },
    {
      "cell_type": "code",
      "source": [
        "REMOTE_MODEL = f\"`{PROJECT_ID}.{DATASET}.text_embed_model`\"\n",
        "EMBEDDING_TBL = f\"`{PROJECT_ID}.{DATASET}.reviews_embeddings`\"\n",
        "\n",
        "create_model_sql = f\"\"\"\n",
        "CREATE OR REPLACE MODEL {REMOTE_MODEL}\n",
        "REMOTE WITH CONNECTION `{VERTEX_CONNECTION}`\n",
        "OPTIONS (ENDPOINT = 'text-embedding-005');\n",
        "\"\"\"\n",
        "bq.query(create_model_sql, location=\"us-central1\").result()\n",
        "print(\"✅ Remote model created:\", REMOTE_MODEL)"
      ],
      "metadata": {
        "colab": {
          "base_uri": "https://localhost:8080/"
        },
        "id": "sbqbFJ2fMKmG",
        "outputId": "01577806-a14b-49a8-a270-0097f561b0cc"
      },
      "execution_count": null,
      "outputs": [
        {
          "output_type": "stream",
          "name": "stdout",
          "text": [
            "✅ Remote model created: `mobile-app-review-471616.reviews.text_embed_model`\n"
          ]
        }
      ]
    },
    {
      "cell_type": "code",
      "source": [
        "create_embeddings_sql = f\"\"\"\n",
        "CREATE OR REPLACE TABLE {EMBEDDING_TBL} AS\n",
        "SELECT\n",
        "  review_id,\n",
        "  content AS review_text,\n",
        "  app_name,\n",
        "  app_version,\n",
        "  CAST(review_date AS TIMESTAMP) AS review_date,\n",
        "  user_country,\n",
        "  CAST(user_age AS INT64) AS age,\n",
        "  ml_generate_embedding_result AS embedding\n",
        "FROM ML.GENERATE_EMBEDDING(\n",
        "  MODEL {REMOTE_MODEL},\n",
        "  (\n",
        "    SELECT\n",
        "      review_id,\n",
        "      review_text AS content,\n",
        "      app_name,\n",
        "      app_version,\n",
        "      review_date,\n",
        "      user_country,\n",
        "      user_age\n",
        "    FROM `{PROJECT_ID}.{DATASET}.{CLEANED_TABLE}`\n",
        "    WHERE review_text IS NOT NULL AND review_text != ''\n",
        "  ),\n",
        "  STRUCT(TRUE AS flatten_json_output, 'SEMANTIC_SIMILARITY' AS task_type)\n",
        ");\n",
        "\"\"\"\n",
        "bq.query(create_embeddings_sql, location=\"us-central1\").result()\n",
        "print(\"✅ Embeddings table created:\", EMBEDDING_TBL)"
      ],
      "metadata": {
        "colab": {
          "base_uri": "https://localhost:8080/"
        },
        "id": "FYcyWvkVY5T7",
        "outputId": "f62808a4-a291-4b85-af45-1ef177f46cf6"
      },
      "execution_count": null,
      "outputs": [
        {
          "output_type": "stream",
          "name": "stdout",
          "text": [
            "✅ Embeddings table created: `mobile-app-review-471616.reviews.reviews_embeddings`\n"
          ]
        }
      ]
    },
    {
      "cell_type": "code",
      "source": [
        "def pm_chatbot_generic(user_message, top_k=30):\n",
        "    # Step 1: Retrieve semantically similar reviews across ALL apps\n",
        "    search_query = f\"\"\"\n",
        "    WITH query_embedding AS (\n",
        "      SELECT ml_generate_embedding_result AS query_embed\n",
        "      FROM ML.GENERATE_EMBEDDING(\n",
        "        MODEL {REMOTE_MODEL},\n",
        "        (SELECT @user_message AS content),\n",
        "        STRUCT(TRUE AS flatten_json_output, 'SEMANTIC_SIMILARITY' AS task_type)\n",
        "      )\n",
        "    )\n",
        "    SELECT\n",
        "      e.review_text,\n",
        "      e.app_name,\n",
        "      c.rating,\n",
        "      e.user_country\n",
        "    FROM `{PROJECT_ID}.{DATASET}.reviews_embeddings` e\n",
        "    CROSS JOIN query_embedding q\n",
        "    JOIN `{PROJECT_ID}.{DATASET}.{CLEANED_TABLE}` c\n",
        "      ON e.review_id = c.review_id\n",
        "    WHERE e.embedding IS NOT NULL\n",
        "    ORDER BY ML.DISTANCE(e.embedding, q.query_embed, 'COSINE') ASC\n",
        "    LIMIT {top_k}\n",
        "    \"\"\"\n",
        "\n",
        "    job_config = bigquery.QueryJobConfig(\n",
        "        query_parameters=[\n",
        "            bigquery.ScalarQueryParameter(\"user_message\", \"STRING\", user_message)\n",
        "        ]\n",
        "    )\n",
        "    relevant_reviews = bq.query(search_query, job_config=job_config).to_dataframe()\n",
        "\n",
        "    # Step 2: Build context string from retrieved reviews\n",
        "    context_parts = []\n",
        "    for idx, review in relevant_reviews.iterrows():\n",
        "        context_parts.append(\n",
        "            f\"Review {idx+1} (App: {review['app_name']}, Rating: {review['rating']}/5, {review['review_text']}\"\n",
        "        )\n",
        "    context = \" \".join(context_parts)\n",
        "\n",
        "    # Step 3: Ask the LLM to answer the question\n",
        "    gen_text_query = f\"\"\"\n",
        "    SELECT\n",
        "      AI.GENERATE(\n",
        "        ('''\n",
        "        You are a product analyst. Answer the following user question\n",
        "        using the information from the reviews below.\n",
        "\n",
        "        Question:\n",
        "        {user_message}\n",
        "\n",
        "        Reviews:\n",
        "        {context}\n",
        "        '''),\n",
        "        connection_id => '{VERTEX_CONNECTION}',\n",
        "        endpoint => 'gemini-2.0-flash'\n",
        "      ).result AS answer\n",
        "    \"\"\"\n",
        "\n",
        "    llm_result = bq.query(gen_text_query).to_dataframe()\n",
        "    return llm_result[\"answer\"].iloc[0]"
      ],
      "metadata": {
        "id": "oy4b26B6Aifg"
      },
      "execution_count": null,
      "outputs": []
    },
    {
      "cell_type": "code",
      "source": [
        "response = pm_chatbot_generic(\"What apps have problems with too many ads and what is the overall sentiment towards these apps.\")\n",
        "print(response)"
      ],
      "metadata": {
        "colab": {
          "base_uri": "https://localhost:8080/"
        },
        "id": "WoYEZu_IAjfB",
        "outputId": "b267362c-a905-4885-d0e9-91339bf7e439"
      },
      "execution_count": null,
      "outputs": [
        {
          "output_type": "stream",
          "name": "stdout",
          "text": [
            "Based on the reviews provided, the following apps are consistently mentioned as having an issue with too many ads:\n",
            "\n",
            "*   Amazon\n",
            "*   Google Maps\n",
            "*   Microsoft Office\n",
            "*   VLC\n",
            "*   WhatsApp\n",
            "*   Reddit\n",
            "*   Pinterest\n",
            "*   OneDrive\n",
            "*   Khan Academy\n",
            "*   Booking.com\n",
            "*   TikTok\n",
            "*   Venmo\n",
            "*   Udemy\n",
            "*   PayPal\n",
            "*   MX Player\n",
            "*   Netflix\n",
            "*   Coursera\n",
            "*   Facebook\n",
            "*   Twitter\n",
            "*   Grammarly\n",
            "*   Canva\n",
            "*   Spotify\n",
            "\n",
            "**Overall Sentiment:**\n",
            "\n",
            "The overall sentiment towards these apps is mixed. While users generally describe the apps as \"Great\", their ratings are affected by the prevalence of ads. The ratings vary widely, indicating that the impact of ads is subjective and may depend on the specific app's functionality and user expectations. However, the reviews also suggest that the apps should be considered with a premium version.\n",
            "\n",
            "\n"
          ]
        }
      ]
    }
  ]
}